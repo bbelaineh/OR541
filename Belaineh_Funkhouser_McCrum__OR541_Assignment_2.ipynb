{
 "cells": [
  {
   "cell_type": "markdown",
   "id": "18b26796",
   "metadata": {},
   "source": [
    "# OR541: Assignment 2 using Python, Pulp library \n",
    "\n",
    "Bethlehem Belaineh \n",
    "Emily Funkhouser \n",
    "Katherine McCrum "
   ]
  },
  {
   "cell_type": "markdown",
   "id": "449ef08f",
   "metadata": {},
   "source": [
    "# Page 55, Problem 4\n",
    "\n",
    "Trucko Manufactures two types of trucks: 1 and 2. Each truck must go through the painting shop and assembly shop. If the painting shop were completely devoted to painting Type 1 trucks, then 800 per day could be painted; if the painting shop were completely devoted to painting Type 2 trucks, then 700 per day could be painted. If the assembly shop were completely devoted to assembling Truck 1 engines, then 1,500 per day could be assembled; if the assembly shop were completely devoted to assembling truck 2 engines, then 1,200 per day could be assembled. Each Type 1 truck contributes $300 to profit; each Type 2 truck contributes $500. Formulate an LP that will maximize Trucko's profit. \n"
   ]
  },
  {
   "cell_type": "code",
   "execution_count": 33,
   "id": "05076765",
   "metadata": {},
   "outputs": [],
   "source": [
    "problem = LpProblem('Truckco', LpMaximize)"
   ]
  },
  {
   "cell_type": "code",
   "execution_count": 34,
   "id": "fc53aceb",
   "metadata": {},
   "outputs": [],
   "source": [
    "A = LpVariable('Truck 1', lowBound=0 , cat=LpInteger)\n",
    "B = LpVariable('Truck 2', lowBound=0 , cat=LpInteger)"
   ]
  },
  {
   "cell_type": "code",
   "execution_count": 35,
   "id": "a4003d04",
   "metadata": {},
   "outputs": [],
   "source": [
    "#Objective Function\n",
    "problem += 300*A + 500*B , 'Objective Function'\n",
    "#Constraints\n",
    "problem += (1/800)*A + (1/700)*B <= 1 , 'Painting Constraint'\n",
    "problem += (1/1500)*A + (1/1200)*B <=1, 'Assembly Constraint'"
   ]
  },
  {
   "cell_type": "code",
   "execution_count": 36,
   "id": "d76c2c0f",
   "metadata": {},
   "outputs": [
    {
     "name": "stdout",
     "output_type": "stream",
     "text": [
      "Number of Truck 1 Made:  0.0\n",
      "Number of Truck 2 Made:  700.0\n",
      "Total Profit:  350000.0\n"
     ]
    }
   ],
   "source": [
    "problem.solve()\n",
    "print(\"Number of Truck 1 Made: \", A.varValue)\n",
    "print(\"Number of Truck 2 Made: \", B.varValue)\n",
    "print(\"Total Profit: \", value(problem.objective))"
   ]
  },
  {
   "cell_type": "markdown",
   "id": "0e94c7ee",
   "metadata": {},
   "source": [
    "# Page 63, Problem 5\n",
    "\n",
    "Furnco manufactures desks and chairs. Each desk uses 4 units of wood, and each chair uses 3. A desk contributes $40 to profit, and a chair contributes $25. Marketing restrictions require that the number of chairs produced be at least twice the number of desks produced. If 20 units of wood are available, formulate an LP to maximize Furnco's profit. Then graphically solve the LP."
   ]
  },
  {
   "cell_type": "code",
   "execution_count": 55,
   "id": "6fc13093",
   "metadata": {},
   "outputs": [],
   "source": [
    "problem = LpProblem('Furnco', LpMaximize)"
   ]
  },
  {
   "cell_type": "code",
   "execution_count": 56,
   "id": "3390909c",
   "metadata": {},
   "outputs": [],
   "source": [
    "A = LpVariable('Desk', lowBound=0 , cat=LpInteger)\n",
    "B = LpVariable('Chair', lowBound=0 , cat=LpInteger)"
   ]
  },
  {
   "cell_type": "code",
   "execution_count": 57,
   "id": "07166f9e",
   "metadata": {},
   "outputs": [],
   "source": [
    "#Objective Function\n",
    "problem += 40*A + 25*B , 'Objective Function'\n",
    "#Constraints\n",
    "problem += B >= 2*A , 'Chairs Twice Constraint'\n",
    "problem += 4*A + 3*B <=20, 'Wood Units Constraint'"
   ]
  },
  {
   "cell_type": "code",
   "execution_count": 58,
   "id": "c1413af5",
   "metadata": {},
   "outputs": [
    {
     "name": "stdout",
     "output_type": "stream",
     "text": [
      "Number of Desks Made:  2.0\n",
      "Number of Chairs Made:  4.0\n",
      "Total Profit:  180.0\n"
     ]
    }
   ],
   "source": [
    "problem.solve()\n",
    "print(\"Number of Desks Made: \", A.varValue)\n",
    "print(\"Number of Chairs Made: \", B.varValue)\n",
    "print(\"Total Profit: \", value(problem.objective))"
   ]
  },
  {
   "cell_type": "markdown",
   "id": "29f28974",
   "metadata": {},
   "source": [
    "# Page 68, Problem #9\n",
    "\n",
    "Graphically determine two optimal solutions to the following LP:\n",
    "Min z = 3x1 + 5x2\n",
    "s.t.  3x1 + 2x2 >= 36\n",
    "3x1 +5x2 >= 45\n",
    "X1, x2 >= 0\n"
   ]
  },
  {
   "cell_type": "code",
   "execution_count": 51,
   "id": "c8f6c71d",
   "metadata": {},
   "outputs": [],
   "source": [
    "problem = LpProblem('Prob9', LpMinimize)"
   ]
  },
  {
   "cell_type": "code",
   "execution_count": 52,
   "id": "20c1bcf3",
   "metadata": {},
   "outputs": [],
   "source": [
    "A = LpVariable('X1', lowBound=0 , cat=LpInteger)\n",
    "B = LpVariable('X2', lowBound=0 , cat=LpInteger)"
   ]
  },
  {
   "cell_type": "code",
   "execution_count": 53,
   "id": "6328fb06",
   "metadata": {},
   "outputs": [],
   "source": [
    "#Objective Function\n",
    "problem += 3*A + 5*B , 'Objective Function'\n",
    "#Constraints\n",
    "problem += 3*A + 2*B >=36\n",
    "problem += 3*A + 5*B >=45"
   ]
  },
  {
   "cell_type": "code",
   "execution_count": 54,
   "id": "7d7b0e53",
   "metadata": {
    "scrolled": true
   },
   "outputs": [
    {
     "name": "stdout",
     "output_type": "stream",
     "text": [
      "Number of X1:  15.0\n",
      "Number of X2:  0.0\n",
      "Total Cost:  45.0\n"
     ]
    }
   ],
   "source": [
    "problem.solve()\n",
    "print(\"Number of X1: \", A.varValue)\n",
    "print(\"Number of X2: \", B.varValue)\n",
    "print(\"Total Cost: \", value(problem.objective))"
   ]
  },
  {
   "cell_type": "markdown",
   "id": "63149a87",
   "metadata": {},
   "source": [
    "# 4. Page 71, Problem #2\n",
    "\n",
    " U.S. Labs manufactures mechanical heart values from the heart values of pigs. Different heart operations require values of different sizes. U.S. Labs purchases pig values from three different suppliers. The cost and size mix of the values purchased from each supplier are given in Table 3. Each month, U.S. Labs  places one order with each supplier. At least 500 large, 300 medium, and 300 small valves must be purchased each month. Because of limited availability of pig valves, at most 700 valves per month can be purchased from each supplier. Formulate an LP that can be used to minimize the cost of acquiring the needed valves."
   ]
  },
  {
   "cell_type": "code",
   "execution_count": null,
   "id": "f3e23359",
   "metadata": {},
   "outputs": [],
   "source": [
    "problem = LpProblem('Prob2', LpMinimize)"
   ]
  },
  {
   "cell_type": "code",
   "execution_count": 39,
   "id": "b6e2e019",
   "metadata": {},
   "outputs": [],
   "source": [
    "A = LpVariable('X1', lowBound=0 , cat=LpInteger)\n",
    "B = LpVariable('X2', lowBound=0 , cat=LpInteger)\n",
    "C = LpVariable('X3', lowBound=0 , cat=LpInteger)"
   ]
  },
  {
   "cell_type": "code",
   "execution_count": 42,
   "id": "d46067be",
   "metadata": {},
   "outputs": [],
   "source": [
    "#Objective Function\n",
    "problem += 5*A + 4*B +3*C , 'Objective Function'\n",
    "#Constraints\n",
    "problem += .4*A + .3*B +.2*C >=500\n",
    "problem += .4*A + .35*B +.2*C >=300\n",
    "problem += .2*A + .35*B +.6*C >=500\n",
    "problem += A <=700\n",
    "problem += B <=700\n",
    "problem += C <=700"
   ]
  },
  {
   "cell_type": "code",
   "execution_count": 41,
   "id": "1a503063",
   "metadata": {},
   "outputs": [
    {
     "name": "stdout",
     "output_type": "stream",
     "text": [
      "Number of X1:  700.0\n",
      "Number of X2:  700.0\n",
      "Number of X3:  700.0\n",
      "Total Cost:  8400.0\n"
     ]
    }
   ],
   "source": [
    "problem.solve()\n",
    "print(\"Number of X1: \", A.varValue)\n",
    "print(\"Number of X2: \", B.varValue)\n",
    "print(\"Number of X3: \", C.varValue)\n",
    "print(\"Total Cost: \", value(problem.objective))"
   ]
  },
  {
   "cell_type": "markdown",
   "id": "ab51ce72",
   "metadata": {},
   "source": [
    "\n",
    "# 5. Page 92, Problem #2\n",
    " \n",
    "O.J. Juice Company sells bags of oranges and cartons of orange juice. O.J. grades oranges on a scale of 1 (poor) to 10 (excellent). O.J. now has on hand 100,000 lb of grade 9 oranges and 120,000 lb of grade 6 oranges. The average quality of oranges sold in bags must be at least 7, and the average quality of the oranges used to produce orange juice must be at least 8. Each pound of oranges that is used for juice yields a revenue of $1.50 and incurs a variable cost (consisting of labor costs, variable overhead costs, inventory costs, and so on) of $1.05. Each pound of oranges sold in bags yields a revenue of 50 c and incurs a variable cost of 20 c. Formulate an LP to help O.J. maximize profit\n"
   ]
  },
  {
   "cell_type": "code",
   "execution_count": 1,
   "id": "8ca8adda",
   "metadata": {},
   "outputs": [],
   "source": [
    "# example from lecture http://benalexkeen.com/linear-programming-with-python-and-pulp-part-4/"
   ]
  },
  {
   "cell_type": "code",
   "execution_count": 2,
   "id": "3f8e17c4",
   "metadata": {},
   "outputs": [],
   "source": [
    "from pulp import *\n",
    "import numpy as np  # one of my defaults - not needed for these simple problems\n",
    "import pandas as pd # one of my defaults - not needed for these simple problems\n",
    "import matplotlib.pyplot as plt "
   ]
  },
  {
   "cell_type": "code",
   "execution_count": 3,
   "id": "588e9ed0",
   "metadata": {},
   "outputs": [],
   "source": [
    "#Data\n",
    "gradeValue={'g6':6,'g9':9}\n",
    "orangesOnHand={'g6':100000,'g9':120000}\n",
    "minAvgQuality={'juice':8,'bags':7}\n",
    "revOrange={'juice':1.50,'bags':.50}\n",
    "varCost={'juice':1.05,'bags':.20}\n",
    "profit={'juice':.45,'bags':.30}"
   ]
  },
  {
   "cell_type": "code",
   "execution_count": 32,
   "id": "c7ee521e",
   "metadata": {},
   "outputs": [],
   "source": [
    "#Instantiate our problem class \n",
    "\n",
    "model = LpProblem(\"Profit maximizing blending problem\", LpMaximize)"
   ]
  },
  {
   "cell_type": "code",
   "execution_count": 5,
   "id": "bccf457a",
   "metadata": {},
   "outputs": [],
   "source": [
    "#Indices\n",
    "grade=['g6','g9']\n",
    "product=['bags','juice']"
   ]
  },
  {
   "cell_type": "code",
   "execution_count": 6,
   "id": "31acf4a1",
   "metadata": {},
   "outputs": [],
   "source": [
    "ing_orange=LpVariable.dicts(\"Orange output\",((i,j) for i in grade for j in product),lowBound=0,cat='Continuous')\n",
    "#for product p in product for g in grade "
   ]
  },
  {
   "cell_type": "code",
   "execution_count": 7,
   "id": "6f484c32",
   "metadata": {},
   "outputs": [
    {
     "data": {
      "text/plain": [
       "{('g6', 'bags'): Orange_output_('g6',_'bags'),\n",
       " ('g6', 'juice'): Orange_output_('g6',_'juice'),\n",
       " ('g9', 'bags'): Orange_output_('g9',_'bags'),\n",
       " ('g9', 'juice'): Orange_output_('g9',_'juice')}"
      ]
     },
     "execution_count": 7,
     "metadata": {},
     "output_type": "execute_result"
    }
   ],
   "source": [
    "ing_orange"
   ]
  },
  {
   "cell_type": "code",
   "execution_count": 8,
   "id": "22f9a4b2",
   "metadata": {},
   "outputs": [],
   "source": [
    "#Objective Function \n",
    "model += (\n",
    "    lpSum([\n",
    "    0.3 * ing_orange[(i,'bags')] +\n",
    "    0.45 * ing_orange[(i,'juice')]\n",
    "    for i in grade])\n",
    "    )"
   ]
  },
  {
   "cell_type": "code",
   "execution_count": 9,
   "id": "8633bdee",
   "metadata": {},
   "outputs": [],
   "source": [
    "#The company has a total 120,000 lb of grade 6 oranges.\n",
    "model += pulp.lpSum([ing_orange['g6', j] for j in product]) <= 120000\n",
    "\n",
    "#The company has a total of 100,000 grade 9 oranges \n",
    "model += pulp.lpSum([ing_orange['g9', j] for j in product])  <= 100000"
   ]
  },
  {
   "cell_type": "code",
   "execution_count": 10,
   "id": "03ce17e3",
   "metadata": {},
   "outputs": [],
   "source": [
    "# Total quality of the oranges in the bag is: 6x11 + 9x21 /x11+x21 >= 7 \n",
    "\n",
    "model += (6 * ing_orange[('g6','bags')] + 9 * ing_orange[('g9','bags')]) >= 7 * lpSum([ing_orange[j,'bags'] for j in grade])\n",
    "\n"
   ]
  },
  {
   "cell_type": "code",
   "execution_count": 11,
   "id": "0688fb99",
   "metadata": {},
   "outputs": [],
   "source": [
    "# Total quality of the oranges in the juice is: 6x12 + 9x22 /x12+x22 >= 8\n",
    "\n",
    "\n",
    "model += (6 * ing_orange[('g6','juice')] + 9 * ing_orange[('g9','juice')]) >= 8 * lpSum([ing_orange[j,'juice'] for j in grade])\n"
   ]
  },
  {
   "cell_type": "code",
   "execution_count": 12,
   "id": "cc00dcc5",
   "metadata": {},
   "outputs": [
    {
     "data": {
      "text/plain": [
       "Profit_maximizing_blending_problem:\n",
       "MAXIMIZE\n",
       "0.3*Orange_output_('g6',_'bags') + 0.45*Orange_output_('g6',_'juice') + 0.3*Orange_output_('g9',_'bags') + 0.45*Orange_output_('g9',_'juice') + 0.0\n",
       "SUBJECT TO\n",
       "_C1: Orange_output_('g6',_'bags') + Orange_output_('g6',_'juice') <= 120000\n",
       "\n",
       "_C2: Orange_output_('g9',_'bags') + Orange_output_('g9',_'juice') <= 100000\n",
       "\n",
       "_C3: - Orange_output_('g6',_'bags') + 2 Orange_output_('g9',_'bags') >= 0\n",
       "\n",
       "_C4: - 2 Orange_output_('g6',_'juice') + Orange_output_('g9',_'juice') >= 0\n",
       "\n",
       "VARIABLES\n",
       "Orange_output_('g6',_'bags') Continuous\n",
       "Orange_output_('g6',_'juice') Continuous\n",
       "Orange_output_('g9',_'bags') Continuous\n",
       "Orange_output_('g9',_'juice') Continuous"
      ]
     },
     "execution_count": 12,
     "metadata": {},
     "output_type": "execute_result"
    }
   ],
   "source": [
    "model"
   ]
  },
  {
   "cell_type": "code",
   "execution_count": 13,
   "id": "c5899c4c",
   "metadata": {},
   "outputs": [
    {
     "data": {
      "text/plain": [
       "1"
      ]
     },
     "execution_count": 13,
     "metadata": {},
     "output_type": "execute_result"
    }
   ],
   "source": [
    "model.solve()"
   ]
  },
  {
   "cell_type": "code",
   "execution_count": 15,
   "id": "079959d7",
   "metadata": {},
   "outputs": [
    {
     "data": {
      "text/plain": [
       "'Optimal'"
      ]
     },
     "execution_count": 15,
     "metadata": {},
     "output_type": "execute_result"
    }
   ],
   "source": [
    "LpStatus[model.status]"
   ]
  },
  {
   "cell_type": "code",
   "execution_count": 31,
   "id": "c7c5ae53",
   "metadata": {},
   "outputs": [
    {
     "name": "stdout",
     "output_type": "stream",
     "text": [
      "Orange_output_('g6',_'bags') = 93333.333\n",
      "Orange_output_('g6',_'juice') = 26666.667\n",
      "Orange_output_('g9',_'bags') = 46666.667\n",
      "Orange_output_('g9',_'juice') = 53333.333\n"
     ]
    }
   ],
   "source": [
    "for x in model.variables():\n",
    "    print (x.name,\"=\",x.varValue)"
   ]
  },
  {
   "cell_type": "code",
   "execution_count": 17,
   "id": "83290b7b",
   "metadata": {},
   "outputs": [
    {
     "data": {
      "text/plain": [
       "78000.0"
      ]
     },
     "execution_count": 17,
     "metadata": {},
     "output_type": "execute_result"
    }
   ],
   "source": [
    "value(model.objective)"
   ]
  }
 ],
 "metadata": {
  "kernelspec": {
   "display_name": "Python 3 (ipykernel)",
   "language": "python",
   "name": "python3"
  },
  "language_info": {
   "codemirror_mode": {
    "name": "ipython",
    "version": 3
   },
   "file_extension": ".py",
   "mimetype": "text/x-python",
   "name": "python",
   "nbconvert_exporter": "python",
   "pygments_lexer": "ipython3",
   "version": "3.10.6"
  }
 },
 "nbformat": 4,
 "nbformat_minor": 5
}
