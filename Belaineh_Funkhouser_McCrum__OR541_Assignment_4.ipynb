{
 "cells": [
  {
   "cell_type": "code",
   "execution_count": 1,
   "id": "56d5ce8e",
   "metadata": {},
   "outputs": [],
   "source": [
    "# # OR541: Assignment 2 using Python, Pulp library\n",
    "#\n",
    "# Bethlehem Belaineh\n",
    "# Emily Funkhouser\n",
    "# Katherine McCrum\n",
    "from pulp import LpProblem, LpMinimize, LpVariable, LpInteger\n",
    "\n",
    "#Example 9 pg186\n",
    "\n",
    "problem = LpProblem('Mondo',LpMinimize)"
   ]
  },
  {
   "cell_type": "code",
   "execution_count": 2,
   "id": "5f44bb57",
   "metadata": {},
   "outputs": [],
   "source": [
    "p1=LpVariable ('motorcycles Q1', lowBound=0, cat=LpInteger)\n",
    "p2=LpVariable ('motorcycles Q2', lowBound=0, cat=LpInteger)\n",
    "p3=LpVariable ('motorcycles Q3', lowBound=0, cat=LpInteger)\n",
    "p4=LpVariable ('motorcycles Q4', lowBound=0, cat=LpInteger)\n",
    "i1=LpVariable ('inventory Q1', lowBound=0, cat=LpInteger)\n",
    "i2=LpVariable ('inventory Q2', lowBound=0, cat=LpInteger)\n",
    "i3=LpVariable ('inventory Q3', lowBound=0, cat=LpInteger)\n",
    "i4=LpVariable ('inventory Q4', lowBound=0, cat=LpInteger)\n",
    "x11=LpVariable ('increase production Q1', lowBound=0, cat=LpInteger)\n",
    "x12=LpVariable ('increase production Q2', lowBound=0, cat=LpInteger)\n",
    "x13=LpVariable ('increase production Q3', lowBound=0, cat=LpInteger)\n",
    "x14=LpVariable ('increase production Q4', lowBound=0, cat=LpInteger)\n",
    "x21=LpVariable ('decrease production Q1', lowBound=0, cat=LpInteger)\n",
    "x22=LpVariable ('decrease production Q2', lowBound=0, cat=LpInteger)\n",
    "x23=LpVariable ('decrease production Q3', lowBound=0, cat=LpInteger)\n",
    "x24=LpVariable ('decrease production Q4', lowBound=0, cat=LpInteger)"
   ]
  },
  {
   "cell_type": "code",
   "execution_count": 3,
   "id": "aa492da0",
   "metadata": {},
   "outputs": [],
   "source": [
    "#objective function\n",
    "\n",
    "problem += (400*(p1+p2+p3+p4)) + (100*(i1+i2+i3+i4))+(700*(x11+x12+x13+x14)+(600*(x21+x22+x23+x24))), 'Objective Function'\n"
   ]
  },
  {
   "cell_type": "code",
   "execution_count": 4,
   "id": "72ddd6e8",
   "metadata": {},
   "outputs": [],
   "source": [
    "#Constraints\n",
    "\n",
    "problem += i1 == p1-40\n",
    "problem += i2 == i1+p2-70\n",
    "problem += i3 == i2+p3-50\n",
    "problem += i4== i3+p4-20\n",
    "problem += x11-x21 == p1-50\n",
    "problem += x12-x22 ==p2-p1\n",
    "problem += x13-x23 ==p3-p2\n",
    "problem += x14-x24 ==p4-p3"
   ]
  },
  {
   "cell_type": "code",
   "execution_count": 5,
   "id": "28e07d24",
   "metadata": {},
   "outputs": [
    {
     "name": "stdout",
     "output_type": "stream",
     "text": [
      "Quarter 1 Motorcycles: 55.0\n",
      "Quarter 2 Motorcycles: 55.0\n",
      "Quarter 3 Motorcycles: 50.0\n",
      "Quarter 4 Motorcycles: 50.0\n"
     ]
    }
   ],
   "source": [
    "problem.solve()\n",
    "print( \"Quarter 1 Motorcycles:\", p1.varValue)\n",
    "print( \"Quarter 2 Motorcycles:\", p2.varValue)\n",
    "print( \"Quarter 3 Motorcycles:\", p3.varValue)\n",
    "print( \"Quarter 4 Motorcycles:\", p4.varValue)"
   ]
  },
  {
   "cell_type": "code",
   "execution_count": 6,
   "id": "b1c09645",
   "metadata": {},
   "outputs": [],
   "source": [
    "#14.4\n",
    "\n",
    "problem2 = LpProblem('Mondo2',LpMinimize)"
   ]
  },
  {
   "cell_type": "code",
   "execution_count": 12,
   "id": "a493d83d",
   "metadata": {},
   "outputs": [],
   "source": [
    "p1=LpVariable ('motorcycles Q1', lowBound=0, cat=LpInteger)\n",
    "p2=LpVariable ('motorcycles Q2', lowBound=0, cat=LpInteger)\n",
    "p3=LpVariable ('motorcycles Q3', lowBound=0, cat=LpInteger)\n",
    "p4=LpVariable ('motorcycles Q4', lowBound=0, cat=LpInteger)\n",
    "i11=LpVariable ('inventory surplus Q1', lowBound=0, cat=LpInteger)\n",
    "i12=LpVariable ('inventory surplus Q2', lowBound=0, cat=LpInteger)\n",
    "i13=LpVariable ('inventory surplus Q3', lowBound=0, cat=LpInteger)\n",
    "i14=LpVariable ('inventory surplus Q4', lowBound=0, cat=LpInteger)\n",
    "i21=LpVariable ('inventory deficit Q1', lowBound=0, cat=LpInteger)\n",
    "i22=LpVariable ('inventory deficit Q2', lowBound=0, cat=LpInteger)\n",
    "i23=LpVariable ('inventory deficit Q3', lowBound=0, cat=LpInteger)\n",
    "i24=LpVariable ('inventory deficit Q4', lowBound=0, cat=LpInteger)\n",
    "x11=LpVariable ('increase production Q1', lowBound=0, cat=LpInteger)\n",
    "x12=LpVariable ('increase production Q2', lowBound=0, cat=LpInteger)\n",
    "x13=LpVariable ('increase production Q3', lowBound=0, cat=LpInteger)\n",
    "x14=LpVariable ('increase production Q4', lowBound=0, cat=LpInteger)\n",
    "x21=LpVariable ('decrease production Q1', lowBound=0, cat=LpInteger)\n",
    "x22=LpVariable ('decrease production Q2', lowBound=0, cat=LpInteger)\n",
    "x23=LpVariable ('decrease production Q3', lowBound=0, cat=LpInteger)\n",
    "x24=LpVariable ('decrease production Q4', lowBound=0, cat=LpInteger)\n",
    "i1=i11-i21\n",
    "i2=i12-i22\n",
    "i3=i13-i23\n",
    "i4=i14-i24"
   ]
  },
  {
   "cell_type": "code",
   "execution_count": 14,
   "id": "d0bf832f",
   "metadata": {},
   "outputs": [],
   "source": [
    "#objective function\n",
    "\n",
    "problem2 += (400*(p1+p2+p3+p4)) + (100*(i11+i12+i13+i14))+(110*(i21+i22+i23+i24))+(700*(x11+x12+x13+x14))+(600*(x21+x22+x23+x24)), 'Objective Function'"
   ]
  },
  {
   "cell_type": "code",
   "execution_count": 15,
   "id": "e3176728",
   "metadata": {},
   "outputs": [],
   "source": [
    "#Constraints\n",
    "\n",
    "problem2 += i11-i21 == p1-40\n",
    "problem2 += i12-i22 == i1+p2-70\n",
    "problem2 += i13-i23 == i2+p3-50\n",
    "problem2 += i14-i24 == i3+p4-20\n",
    "problem2 += x11-x21 == p1-50\n",
    "problem2 += x12-x22 ==p2-p1\n",
    "problem2 += x13-x23 ==p3-p2\n",
    "problem2 += x14-x24 ==p4-p3\n"
   ]
  },
  {
   "cell_type": "code",
   "execution_count": 16,
   "id": "b3f3e96e",
   "metadata": {},
   "outputs": [
    {
     "name": "stdout",
     "output_type": "stream",
     "text": [
      "Quarter 1 Motorcycles: None\n",
      "Quarter 2 Motorcycles: None\n",
      "Quarter 3 Motorcycles: None\n",
      "Quarter 4 Motorcycles: None\n"
     ]
    }
   ],
   "source": [
    "problem.solve()\n",
    "print( \"Quarter 1 Motorcycles:\", p1.varValue)\n",
    "print( \"Quarter 2 Motorcycles:\", p2.varValue)\n",
    "print( \"Quarter 3 Motorcycles:\", p3.varValue)\n",
    "print( \"Quarter 4 Motorcycles:\", p4.varValue)"
   ]
  },
  {
   "cell_type": "code",
   "execution_count": null,
   "id": "3c1cd8c6",
   "metadata": {},
   "outputs": [],
   "source": []
  }
 ],
 "metadata": {
  "kernelspec": {
   "display_name": "Python 3 (ipykernel)",
   "language": "python",
   "name": "python3"
  },
  "language_info": {
   "codemirror_mode": {
    "name": "ipython",
    "version": 3
   },
   "file_extension": ".py",
   "mimetype": "text/x-python",
   "name": "python",
   "nbconvert_exporter": "python",
   "pygments_lexer": "ipython3",
   "version": "3.10.6"
  }
 },
 "nbformat": 4,
 "nbformat_minor": 5
}
