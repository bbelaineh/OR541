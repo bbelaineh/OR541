{
 "cells": [
  {
   "cell_type": "markdown",
   "id": "64214c17",
   "metadata": {},
   "source": [
    " \n",
    " \n",
    " \n",
    " 5. Page 92, Problem #2\n",
    " \n",
    "O.J. Juice Company sells bags of oranges and cartons of orange juice. O.J. grades oranges on a scale of 1 (poor) to 10 (excellent). O.J. now has on hand 100,000 lb of grade 9 oranges and 120,000 lb of grade 6 oranges. The average quality of oranges sold in bags must be at least 7, and the average quality of the oranges used to produce orange juice must be at least 8. Each pound of oranges that is used for juice yields a revenue of $1.50 and incurs a variable cost (consisting of labor costs, variable overhead costs, inventory costs, and so on) of $1.05. Each pound of oranges sold in bags yields a revenue of 50 c and incurs a variable cost of 20 c. Formulate an LP to help O.J. maximize profit\n"
   ]
  },
  {
   "cell_type": "code",
   "execution_count": 25,
   "id": "3f8e17c4",
   "metadata": {},
   "outputs": [],
   "source": [
    "from pulp import *\n",
    "import numpy as np  # one of my defaults - not needed for these simple problems\n",
    "import pandas as pd # one of my defaults - not needed for these simple problems\n",
    "import matplotlib.pyplot as plt "
   ]
  },
  {
   "cell_type": "code",
   "execution_count": 30,
   "id": "588e9ed0",
   "metadata": {},
   "outputs": [],
   "source": [
    "#Data\n",
    "gradeValue={'g6':6,'g9':9}\n",
    "orangesOnHand={'g6':100000,'g9':120000}\n",
    "minAvgQuality={'juice':8,'bags':7}\n",
    "revOrange={'juice':1.50,'bags':.50}\n",
    "varCost={'juice':1.05,'bags':.20}\n",
    "profit={'juice':.45,'bags':.30}"
   ]
  },
  {
   "cell_type": "code",
   "execution_count": 40,
   "id": "c7ee521e",
   "metadata": {},
   "outputs": [],
   "source": [
    "#Instantiate our problem class \n",
    "\n",
    "model = LpProblem(\"Profit maximizing blending problem\", LpMaximize)"
   ]
  },
  {
   "cell_type": "code",
   "execution_count": 49,
   "id": "bccf457a",
   "metadata": {},
   "outputs": [],
   "source": [
    "#Indices\n",
    "grade=['g6','g9']\n",
    "product=['juice','bags']\n",
    "\n",
    "#Sets\n",
    "productPairs=[('juice','bags')]\n"
   ]
  },
  {
   "cell_type": "code",
   "execution_count": 54,
   "id": "31acf4a1",
   "metadata": {},
   "outputs": [],
   "source": [
    "ing_orange=LpVariable.dicts(\"Orange output\",((i,j) for i in productPairs for j in grade),lowBound=0,cat='Continuous')\n",
    "#for product p in product for g in grade "
   ]
  },
  {
   "cell_type": "code",
   "execution_count": 57,
   "id": "22f9a4b2",
   "metadata": {},
   "outputs": [
    {
     "ename": "KeyError",
     "evalue": "(('juice', 'bags'), 'bags')",
     "output_type": "error",
     "traceback": [
      "\u001b[1;31m---------------------------------------------------------------------------\u001b[0m",
      "\u001b[1;31mKeyError\u001b[0m                                  Traceback (most recent call last)",
      "Input \u001b[1;32mIn [57]\u001b[0m, in \u001b[0;36m<cell line: 2>\u001b[1;34m()\u001b[0m\n\u001b[0;32m      1\u001b[0m \u001b[38;5;66;03m#Objective Function \u001b[39;00m\n\u001b[0;32m      2\u001b[0m model \u001b[38;5;241m+\u001b[39m\u001b[38;5;241m=\u001b[39m (\n\u001b[1;32m----> 3\u001b[0m     lpSum([\n\u001b[0;32m      4\u001b[0m     \u001b[38;5;241m0.3\u001b[39m \u001b[38;5;241m*\u001b[39m ing_orange[(i,\u001b[38;5;124m'\u001b[39m\u001b[38;5;124mbags\u001b[39m\u001b[38;5;124m'\u001b[39m)] \u001b[38;5;241m+\u001b[39m\n\u001b[0;32m      5\u001b[0m     \u001b[38;5;241m0.45\u001b[39m \u001b[38;5;241m*\u001b[39m ing_orange[(i,\u001b[38;5;124m'\u001b[39m\u001b[38;5;124mjuice\u001b[39m\u001b[38;5;124m'\u001b[39m)]\n\u001b[0;32m      6\u001b[0m     \u001b[38;5;28;01mfor\u001b[39;00m i \u001b[38;5;129;01min\u001b[39;00m productPairs])\n\u001b[0;32m      7\u001b[0m     )\n",
      "Input \u001b[1;32mIn [57]\u001b[0m, in \u001b[0;36m<listcomp>\u001b[1;34m(.0)\u001b[0m\n\u001b[0;32m      1\u001b[0m \u001b[38;5;66;03m#Objective Function \u001b[39;00m\n\u001b[0;32m      2\u001b[0m model \u001b[38;5;241m+\u001b[39m\u001b[38;5;241m=\u001b[39m (\n\u001b[0;32m      3\u001b[0m     lpSum([\n\u001b[1;32m----> 4\u001b[0m     \u001b[38;5;241m0.3\u001b[39m \u001b[38;5;241m*\u001b[39m \u001b[43ming_orange\u001b[49m\u001b[43m[\u001b[49m\u001b[43m(\u001b[49m\u001b[43mi\u001b[49m\u001b[43m,\u001b[49m\u001b[38;5;124;43m'\u001b[39;49m\u001b[38;5;124;43mbags\u001b[39;49m\u001b[38;5;124;43m'\u001b[39;49m\u001b[43m)\u001b[49m\u001b[43m]\u001b[49m \u001b[38;5;241m+\u001b[39m\n\u001b[0;32m      5\u001b[0m     \u001b[38;5;241m0.45\u001b[39m \u001b[38;5;241m*\u001b[39m ing_orange[(i,\u001b[38;5;124m'\u001b[39m\u001b[38;5;124mjuice\u001b[39m\u001b[38;5;124m'\u001b[39m)]\n\u001b[0;32m      6\u001b[0m     \u001b[38;5;28;01mfor\u001b[39;00m i \u001b[38;5;129;01min\u001b[39;00m productPairs])\n\u001b[0;32m      7\u001b[0m     )\n",
      "\u001b[1;31mKeyError\u001b[0m: (('juice', 'bags'), 'bags')"
     ]
    }
   ],
   "source": [
    "#Objective Function \n",
    "model += (\n",
    "    lpSum([\n",
    "    0.3 * ing_orange[(i,'bags')] +\n",
    "    0.45 * ing_orange[(i,'juice')]\n",
    "    for i in productPairs])\n",
    "    )"
   ]
  },
  {
   "cell_type": "code",
   "execution_count": 56,
   "id": "4363f7fa",
   "metadata": {},
   "outputs": [
    {
     "ename": "SyntaxError",
     "evalue": "invalid character '“' (U+201C) (1139773027.py, line 2)",
     "output_type": "error",
     "traceback": [
      "\u001b[1;36m  Input \u001b[1;32mIn [56]\u001b[1;36m\u001b[0m\n\u001b[1;33m    Second_model=LpProblem(“second_model”,LpMaximize)\u001b[0m\n\u001b[1;37m                           ^\u001b[0m\n\u001b[1;31mSyntaxError\u001b[0m\u001b[1;31m:\u001b[0m invalid character '“' (U+201C)\n"
     ]
    }
   ],
   "source": [
    "#Create optimization model\n",
    "Second_model=LpProblem(“second_model”,LpMaximize)\n",
    "Print(second_model)"
   ]
  },
  {
   "cell_type": "code",
   "execution_count": null,
   "id": "2f3174ba",
   "metadata": {},
   "outputs": [],
   "source": [
    "#Create Variables\n",
    "PRODUCE = LpVariable.dicts(“PRODUCE”,product,lowBound=0) #does grade need to be included here"
   ]
  },
  {
   "cell_type": "code",
   "execution_count": null,
   "id": "d15bb3c7",
   "metadata": {},
   "outputs": [],
   "source": [
    "#Objective function\n",
    "second_model +=lpSum([profit[p]*PRODUCE[p] for p in products]) #again, grade?"
   ]
  },
  {
   "cell_type": "code",
   "execution_count": null,
   "id": "cef568eb",
   "metadata": {},
   "outputs": [],
   "source": [
    "#Constraints\n",
    "#for oranges on hand"
   ]
  },
  {
   "cell_type": "code",
   "execution_count": null,
   "id": "25d52cf3",
   "metadata": {},
   "outputs": [],
   "source": [
    "second_model +=lpSum([needs[ #what\n",
    "    ##  SUM(product: Produce) <= OrangesOnHand;\n",
    "\n",
    "  second_model +=P\n",
    "      SUM(grade: GradeValue * Produce) >= MinAvgQuality * SUM(grade: Produce);\n",
    "\t“6*Produce(juice,g6) + 9*Produce(juice,g9) >= 8*(Produce(juice,g6) + Produce(juice,g9))”\n"
   ]
  }
 ],
 "metadata": {
  "kernelspec": {
   "display_name": "Python 3 (ipykernel)",
   "language": "python",
   "name": "python3"
  },
  "language_info": {
   "codemirror_mode": {
    "name": "ipython",
    "version": 3
   },
   "file_extension": ".py",
   "mimetype": "text/x-python",
   "name": "python",
   "nbconvert_exporter": "python",
   "pygments_lexer": "ipython3",
   "version": "3.10.6"
  }
 },
 "nbformat": 4,
 "nbformat_minor": 5
}
