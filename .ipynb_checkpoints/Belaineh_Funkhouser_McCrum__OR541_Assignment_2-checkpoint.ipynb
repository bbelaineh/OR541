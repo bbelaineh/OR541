{
 "cells": [
  {
   "cell_type": "markdown",
   "id": "18b26796",
   "metadata": {},
   "source": [
    "# OR541: Assignment 2 using Python, Pulp library \n",
    "\n",
    "Bethlehem Belaineh \n",
    "Emily Funkhouser \n",
    "Katherine McCrum "
   ]
  },
  {
   "cell_type": "markdown",
   "id": "ab51ce72",
   "metadata": {},
   "source": [
    "\n",
    " 5. Page 92, Problem #2\n",
    " \n",
    "O.J. Juice Company sells bags of oranges and cartons of orange juice. O.J. grades oranges on a scale of 1 (poor) to 10 (excellent). O.J. now has on hand 100,000 lb of grade 9 oranges and 120,000 lb of grade 6 oranges. The average quality of oranges sold in bags must be at least 7, and the average quality of the oranges used to produce orange juice must be at least 8. Each pound of oranges that is used for juice yields a revenue of $1.50 and incurs a variable cost (consisting of labor costs, variable overhead costs, inventory costs, and so on) of $1.05. Each pound of oranges sold in bags yields a revenue of 50 c and incurs a variable cost of 20 c. Formulate an LP to help O.J. maximize profit\n"
   ]
  },
  {
   "cell_type": "code",
   "execution_count": 1,
   "id": "8ca8adda",
   "metadata": {},
   "outputs": [],
   "source": [
    "# http://benalexkeen.com/linear-programming-with-python-and-pulp-part-4/"
   ]
  },
  {
   "cell_type": "code",
   "execution_count": 2,
   "id": "3f8e17c4",
   "metadata": {},
   "outputs": [],
   "source": [
    "from pulp import *\n",
    "import numpy as np  # one of my defaults - not needed for these simple problems\n",
    "import pandas as pd # one of my defaults - not needed for these simple problems\n",
    "import matplotlib.pyplot as plt "
   ]
  },
  {
   "cell_type": "code",
   "execution_count": 3,
   "id": "588e9ed0",
   "metadata": {},
   "outputs": [],
   "source": [
    "#Data\n",
    "gradeValue={'g6':6,'g9':9}\n",
    "orangesOnHand={'g6':100000,'g9':120000}\n",
    "minAvgQuality={'juice':8,'bags':7}\n",
    "revOrange={'juice':1.50,'bags':.50}\n",
    "varCost={'juice':1.05,'bags':.20}\n",
    "profit={'juice':.45,'bags':.30}"
   ]
  },
  {
   "cell_type": "code",
   "execution_count": 18,
   "id": "c7ee521e",
   "metadata": {},
   "outputs": [],
   "source": [
    "#Instantiate our problem class \n",
    "\n",
    "model = LpProblem(\"Profit maximizing blending problem\", LpMaximize)"
   ]
  },
  {
   "cell_type": "code",
   "execution_count": 19,
   "id": "bccf457a",
   "metadata": {},
   "outputs": [],
   "source": [
    "#Indices\n",
    "grade=['g6','g9']\n",
    "product=['bags','juice']"
   ]
  },
  {
   "cell_type": "code",
   "execution_count": 20,
   "id": "31acf4a1",
   "metadata": {},
   "outputs": [],
   "source": [
    "ing_orange=LpVariable.dicts(\"Orange output\",((i,j) for i in grade for j in product),lowBound=0,cat='Continuous')\n",
    "#for product p in product for g in grade "
   ]
  },
  {
   "cell_type": "code",
   "execution_count": 21,
   "id": "6f484c32",
   "metadata": {},
   "outputs": [
    {
     "data": {
      "text/plain": [
       "{('g6', 'bags'): Orange_output_('g6',_'bags'),\n",
       " ('g6', 'juice'): Orange_output_('g6',_'juice'),\n",
       " ('g9', 'bags'): Orange_output_('g9',_'bags'),\n",
       " ('g9', 'juice'): Orange_output_('g9',_'juice')}"
      ]
     },
     "execution_count": 21,
     "metadata": {},
     "output_type": "execute_result"
    }
   ],
   "source": [
    "ing_orange"
   ]
  },
  {
   "cell_type": "code",
   "execution_count": 22,
   "id": "22f9a4b2",
   "metadata": {},
   "outputs": [],
   "source": [
    "#Objective Function \n",
    "model += (\n",
    "    lpSum([\n",
    "    0.3 * ing_orange[(i,'bags')] +\n",
    "    0.45 * ing_orange[(i,'juice')]\n",
    "    for i in grade])\n",
    "    )"
   ]
  },
  {
   "cell_type": "code",
   "execution_count": 23,
   "id": "8633bdee",
   "metadata": {},
   "outputs": [],
   "source": [
    "#The company has a total 120,000 lb of grade 6 oranges.\n",
    "model += pulp.lpSum([ing_orange['g6', j] for j in product]) <= 120000\n",
    "\n",
    "#The company has a total of 100,000 grade 9 oranges \n",
    "model += pulp.lpSum([ing_orange['g9', j] for j in product])  <= 100000"
   ]
  },
  {
   "cell_type": "code",
   "execution_count": 24,
   "id": "03ce17e3",
   "metadata": {},
   "outputs": [],
   "source": [
    "# Total quality of the oranges in the bag is: 6x11 + 9x21 /x11+x21 >= 7 \n",
    "\n",
    "model += (6 * ing_orange[('g6','bags')] + 9 * ing_orange[('g9','bags')]) >= 7 * lpSum([ing_orange[j,'bags'] for j in grade])\n",
    "\n"
   ]
  },
  {
   "cell_type": "code",
   "execution_count": 25,
   "id": "0688fb99",
   "metadata": {},
   "outputs": [],
   "source": [
    "# Total quality of the oranges in the juice is: 6x12 + 9x22 /x12+x22 >= 8\n",
    "\n",
    "\n",
    "model += (6 * ing_orange[('g6','juice')] + 9 * ing_orange[('g9','juice')]) >= 8 * lpSum([ing_orange[j,'juice'] for j in grade])\n"
   ]
  },
  {
   "cell_type": "code",
   "execution_count": 26,
   "id": "cc00dcc5",
   "metadata": {},
   "outputs": [
    {
     "data": {
      "text/plain": [
       "Profit_maximizing_blending_problem:\n",
       "MAXIMIZE\n",
       "0.3*Orange_output_('g6',_'bags') + 0.45*Orange_output_('g6',_'juice') + 0.3*Orange_output_('g9',_'bags') + 0.45*Orange_output_('g9',_'juice') + 0.0\n",
       "SUBJECT TO\n",
       "_C1: Orange_output_('g6',_'bags') + Orange_output_('g6',_'juice') <= 120000\n",
       "\n",
       "_C2: Orange_output_('g9',_'bags') + Orange_output_('g9',_'juice') <= 100000\n",
       "\n",
       "_C3: - Orange_output_('g6',_'bags') + 2 Orange_output_('g9',_'bags') >= 0\n",
       "\n",
       "_C4: - 2 Orange_output_('g6',_'juice') + Orange_output_('g9',_'juice') >= 0\n",
       "\n",
       "VARIABLES\n",
       "Orange_output_('g6',_'bags') Continuous\n",
       "Orange_output_('g6',_'juice') Continuous\n",
       "Orange_output_('g9',_'bags') Continuous\n",
       "Orange_output_('g9',_'juice') Continuous"
      ]
     },
     "execution_count": 26,
     "metadata": {},
     "output_type": "execute_result"
    }
   ],
   "source": [
    "model"
   ]
  },
  {
   "cell_type": "code",
   "execution_count": 27,
   "id": "c5899c4c",
   "metadata": {},
   "outputs": [
    {
     "data": {
      "text/plain": [
       "1"
      ]
     },
     "execution_count": 27,
     "metadata": {},
     "output_type": "execute_result"
    }
   ],
   "source": [
    "model.solve()"
   ]
  },
  {
   "cell_type": "code",
   "execution_count": 28,
   "id": "079959d7",
   "metadata": {},
   "outputs": [
    {
     "data": {
      "text/plain": [
       "'Optimal'"
      ]
     },
     "execution_count": 28,
     "metadata": {},
     "output_type": "execute_result"
    }
   ],
   "source": [
    "LpStatus[model.status]"
   ]
  },
  {
   "cell_type": "code",
   "execution_count": 29,
   "id": "db2c5ef6",
   "metadata": {},
   "outputs": [
    {
     "data": {
      "text/plain": [
       "78000.0"
      ]
     },
     "execution_count": 29,
     "metadata": {},
     "output_type": "execute_result"
    }
   ],
   "source": [
    "value(model.objective)"
   ]
  },
  {
   "cell_type": "markdown",
   "id": "bd1b54fa",
   "metadata": {},
   "source": [
    "6. Page 97, Problem #8\n",
    "\n",
    "A company produces six products in the following fashion. Each unit of raw material purchased yields four units of product 1, two units of product 2, and one unit of product 3. Up to 1,200 units of product 1 can be sold, and up to 300 units of product 2 can be sold. Each unit of product 1 can be sold or processed further. Each unit of product 1 that is processed yields a unit of product 4. Demand for products 3 and 4 is unlimited. Each unit of product 2 can be sold or processed further. Each unit of product 2 that is processed further yields 0.8 unit of product 5 and 0.3 unit of product 6. Up to 1,000 units of product 5 can be sold, and up to 800 units of product 6 can be sold. Up to 3,000 units of raw material can be purchased at $6 per unit. Leftover units of product 5 and 6 must be destroyed. It costs $4 to destroy each leftover unit of product 5 and $3 to destroy each leftover unit of product 6. Ignoring raw material  purchase costs, the per-unit sales price and production costs for each product are shown in Table 24. Formulate an LP whose solution will yield a profit-maximizing production schedule.\n"
   ]
  },
  {
   "cell_type": "code",
   "execution_count": null,
   "id": "ee712b17",
   "metadata": {},
   "outputs": [],
   "source": []
  },
  {
   "cell_type": "code",
   "execution_count": null,
   "id": "9f1be16d",
   "metadata": {},
   "outputs": [],
   "source": []
  }
 ],
 "metadata": {
  "kernelspec": {
   "display_name": "Python 3 (ipykernel)",
   "language": "python",
   "name": "python3"
  },
  "language_info": {
   "codemirror_mode": {
    "name": "ipython",
    "version": 3
   },
   "file_extension": ".py",
   "mimetype": "text/x-python",
   "name": "python",
   "nbconvert_exporter": "python",
   "pygments_lexer": "ipython3",
   "version": "3.10.6"
  }
 },
 "nbformat": 4,
 "nbformat_minor": 5
}
